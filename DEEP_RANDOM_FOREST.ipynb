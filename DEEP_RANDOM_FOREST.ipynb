{
  "nbformat": 4,
  "nbformat_minor": 0,
  "metadata": {
    "colab": {
      "name": "DEEP-RANDOM-FOREST.ipynb",
      "version": "0.3.2",
      "provenance": [],
      "collapsed_sections": [
        "aLBMRPjGdMKc",
        "SUYZs2YFdb2I",
        "sSSZTXYW-eEc"
      ],
      "include_colab_link": true
    },
    "kernelspec": {
      "name": "python3",
      "display_name": "Python 3"
    },
    "accelerator": "GPU"
  },
  "cells": [
    {
      "cell_type": "markdown",
      "metadata": {
        "id": "view-in-github",
        "colab_type": "text"
      },
      "source": [
        "<a href=\"https://colab.research.google.com/github/filippotessaro/deep-neural-decision-forest/blob/master/DEEP_RANDOM_FOREST.ipynb\" target=\"_parent\"><img src=\"https://colab.research.google.com/assets/colab-badge.svg\" alt=\"Open In Colab\"/></a>"
      ]
    },
    {
      "cell_type": "markdown",
      "metadata": {
        "id": "58nhvUY6eiKH",
        "colab_type": "text"
      },
      "source": [
        "# Deep Neural Decision Forest"
      ]
    },
    {
      "cell_type": "markdown",
      "metadata": {
        "id": "gcM24wD6emvk",
        "colab_type": "text"
      },
      "source": [
        "This is the code for the Deep Learning Project (2019). Emotion recognition has been intesively exploited in the most recent years, due to the low-cost technologies involved and the interest derived from different fields of research, like psychology, psychiatry, neuroscience and computer science in general. Even if the interest in the topic had been constantly growing, the available datasets are still a small number. For this research we decided to test our network on the RAVDESS dataset, which contains audio and video data coming from 24 authors who emulate different emotions. \n",
        "\n",
        "Our problem is doing an audio emotion recognition using a particular kind of architecture: the deep random forest. This architecture has been tested on the MNIST dataset and on other image dataset while here we apply the network on audio data, which are converted in coefficient through an MFCC and then processed."
      ]
    },
    {
      "cell_type": "markdown",
      "metadata": {
        "id": "NTFMzOTLfkMe",
        "colab_type": "text"
      },
      "source": [
        "This project follows the guide lines of the paper: [ Deep Neural Decision Forests](https://www.cv-foundation.org/openaccess/content_iccv_2015/papers/Kontschieder_Deep_Neural_Decision_ICCV_2015_paper.pdf)."
      ]
    },
    {
      "cell_type": "markdown",
      "metadata": {
        "id": "aLBMRPjGdMKc",
        "colab_type": "text"
      },
      "source": [
        "## Dataset Preparation"
      ]
    },
    {
      "cell_type": "code",
      "metadata": {
        "id": "97nC8ndfdnb4",
        "colab_type": "code",
        "colab": {}
      },
      "source": [
        "import librosa\n",
        "import librosa.display\n",
        "import numpy as np\n",
        "import matplotlib.pyplot as plt\n",
        "from matplotlib.pyplot import specgram\n",
        "from sklearn.metrics import confusion_matrix\n",
        "import os"
      ],
      "execution_count": 0,
      "outputs": []
    },
    {
      "cell_type": "code",
      "metadata": {
        "id": "8SNuRFiQdK2v",
        "colab_type": "code",
        "colab": {}
      },
      "source": [
        "from google.colab import drive\n",
        "drive.mount('/content/gdrive')"
      ],
      "execution_count": 0,
      "outputs": []
    },
    {
      "cell_type": "code",
      "metadata": {
        "id": "68TtYiRsdVXW",
        "colab_type": "code",
        "colab": {}
      },
      "source": [
        "!mkdir dataset\n",
        "!cp \"gdrive/My Drive/RAVDESS/RAVDESS_DEFINITIVE_EDITION.zip\" dataset/"
      ],
      "execution_count": 0,
      "outputs": []
    },
    {
      "cell_type": "code",
      "metadata": {
        "id": "B5ru1I0sdVJD",
        "colab_type": "code",
        "colab": {}
      },
      "source": [
        "!unzip dataset/RAVDESS_DEFINITIVE_EDITION.zip\n",
        "mylist= os.listdir('RAVDESS_DEFINITIVE_EDITION/')"
      ],
      "execution_count": 0,
      "outputs": []
    },
    {
      "cell_type": "markdown",
      "metadata": {
        "id": "SUYZs2YFdb2I",
        "colab_type": "text"
      },
      "source": [
        "### Creating Training + Test"
      ]
    },
    {
      "cell_type": "code",
      "metadata": {
        "id": "vVlJe2ZRdbBQ",
        "colab_type": "code",
        "colab": {}
      },
      "source": [
        "import librosa\n",
        "from librosa import display\n",
        "import time\n",
        "\n",
        "path = 'RAVDESS_DEFINITIVE_EDITION/'\n",
        "lst = []\n",
        "\n",
        "start_time = time.time()\n",
        "\n",
        "for subdir, dirs, files in os.walk(path):\n",
        "  for file in files:\n",
        "      try:\n",
        "        print(file)\n",
        "        #Load librosa array, obtain mfcss, store the file and the mcss information in a new array\n",
        "        X, sample_rate = librosa.load(os.path.join(subdir,file), res_type='kaiser_fast')\n",
        "        mfccs = np.mean(librosa.feature.mfcc(y=X, sr=sample_rate, n_mfcc=40).T,axis=0) \n",
        "        # The instruction below converts the labels (from 1 to 8) to a series from 0 to 7\n",
        "        # This is because our predictor needs to start from 0 otherwise it will try to predict also 0.\n",
        "        file = int(file[7:8]) - 1  \n",
        "        arr = mfccs, file\n",
        "        lst.append(arr)\n",
        "      # If the file is not valid, skip it\n",
        "      except ValueError:\n",
        "        continue\n",
        "\n",
        "print(\"--- Data loaded. Loading time: %s seconds ---\" % (time.time() - start_time))"
      ],
      "execution_count": 0,
      "outputs": []
    },
    {
      "cell_type": "code",
      "metadata": {
        "id": "XIlBGNc-dlsq",
        "colab_type": "code",
        "colab": {}
      },
      "source": [
        "# Creating X and y: zip makes a list of all the first elements, and a list of all the second elements.\n",
        "X, y = zip(*lst)\n",
        "\n",
        "import numpy as np\n",
        "X = np.asarray(X)\n",
        "y = np.asarray(y)\n",
        "\n",
        "\n",
        "X.shape, y.shape\n",
        "\n",
        "import joblib\n",
        "\n",
        "X_name = 'X.joblib'\n",
        "y_name = 'y.joblib'\n",
        "save_dir = '/content/drive/My Drive/Ravdess_model'\n",
        "save_dir = 'gdrive/My Drive/RAVDESS/'\n",
        "\n",
        "savedX = joblib.dump(X, os.path.join(save_dir, X_name))\n",
        "savedy = joblib.dump(y, os.path.join(save_dir, y_name))"
      ],
      "execution_count": 0,
      "outputs": []
    },
    {
      "cell_type": "markdown",
      "metadata": {
        "id": "sSSZTXYW-eEc",
        "colab_type": "text"
      },
      "source": [
        "## Plotting the audio file's waveform and its spectrogram"
      ]
    },
    {
      "cell_type": "code",
      "metadata": {
        "id": "_GPar4nk-P0k",
        "colab_type": "code",
        "colab": {}
      },
      "source": [
        "#Load libraries\n",
        "import librosa\n",
        "import librosa.display\n",
        "import numpy as np\n",
        "import matplotlib.pyplot as plt\n",
        "from matplotlib.pyplot import specgram\n",
        "from sklearn.metrics import confusion_matrix\n",
        "% pylab inline\n",
        "import pandas as pd\n",
        "import glob "
      ],
      "execution_count": 0,
      "outputs": []
    },
    {
      "cell_type": "code",
      "metadata": {
        "id": "HCq6jBUt-tPN",
        "colab_type": "code",
        "colab": {}
      },
      "source": [
        "#file audio loading with librosa\n",
        "data, sampling_rate = librosa.load('RawData/f11 (01).wav')\n",
        "\n",
        "plt.figure(figsize=(15, 5))\n",
        "librosa.display.waveplot(data, sr=sampling_rate)"
      ],
      "execution_count": 0,
      "outputs": []
    },
    {
      "cell_type": "code",
      "metadata": {
        "id": "ylxTtPXc_BM6",
        "colab_type": "code",
        "colab": {}
      },
      "source": [
        "import scipy.io.wavfile\n",
        "import sys\n",
        "\n",
        "sr,x = scipy.io.wavfile.read('RawData/f10 (01).wav')\n",
        "\n",
        "## Parameters: 10ms step, 30ms window\n",
        "nstep = int(sr * 0.01)\n",
        "nwin  = int(sr * 0.03)\n",
        "nfft = nwin\n",
        "\n",
        "window = np.hamming(nwin)\n",
        "\n",
        "## will take windows x[n1:n2].  generate\n",
        "## and loop over n2 such that all frames\n",
        "## fit within the waveform\n",
        "nn = range(nwin, len(x), nstep)\n",
        "\n",
        "X = np.zeros( (len(nn), nfft//2) )\n",
        "\n",
        "for i,n in enumerate(nn):\n",
        "    xseg = x[n-nwin:n]\n",
        "    z = np.fft.fft(window * xseg, nfft)\n",
        "    X[i,:] = np.log(np.abs(z[:nfft//2]))\n",
        "\n",
        "plt.imshow(X.T, interpolation='nearest',\n",
        "    origin='lower',\n",
        "    aspect='auto')\n",
        "\n",
        "plt.show()"
      ],
      "execution_count": 0,
      "outputs": []
    },
    {
      "cell_type": "markdown",
      "metadata": {
        "id": "kNOgZZZW_QK6",
        "colab_type": "text"
      },
      "source": [
        "## Getting Data from joblib files\n",
        "\n",
        "Joblib is a powerful Python package for management of computation: parallel computing, caching, and primitives for out-of-core computing. It is handy when working on so called big data, that can consume more than the available RAM (several GB nowadays). In such situations, objects in the working space must be persisted to disk, for out-of-core computing, distribution of jobs, or caching.\n",
        "\n",
        "For data management, joblib provides transparent disk persistence that is very efficient with such objects. The internal mechanism relies on specializing pickle to handle better numpy arrays.\n",
        "\n",
        "On this project, we have decided to store our features and our output labels in two distinct joblib files. The main reason in doing this, is for the fact that with this file format we have reduced the loading time of the audio files."
      ]
    },
    {
      "cell_type": "code",
      "metadata": {
        "id": "yQSkaOf-AY6l",
        "colab_type": "code",
        "outputId": "fff40ebb-2348-4a25-f15e-dbea618a7edb",
        "colab": {
          "base_uri": "https://localhost:8080/",
          "height": 69
        }
      },
      "source": [
        "#PROVA NUOVO DATASET\n",
        "import joblib\n",
        "from sklearn.model_selection import train_test_split\n",
        "import numpy as np\n",
        "from tensorboardcolab import TensorBoardColab\n",
        "\n",
        "# Loading saved models\n",
        "X = joblib.load('X.joblib')\n",
        "print(len(X))\n",
        "y = joblib.load('y.joblib')\n",
        "print(len(y))\n",
        "\n",
        "\n",
        "#Add new dataset\n",
        "'''X_Sentelli = joblib.load('X_Sentelli.joblib')\n",
        "y_Sentelli = joblib.load('y_Sentelli.joblib')\n",
        "\n",
        "print(len(y_Sentelli))# 4904 + 9237\n",
        "\n",
        "X_new = np.append(X, X_Sentelli, axis=0)\n",
        "print(len(X_new))\n",
        "y_new = np.append (y, y_Sentelli, axis=0)'''\n",
        "\n",
        "#Train 70 - Test 30 random splitting\n",
        "X_train, X_test, y_train, y_test = train_test_split(X, y, test_size=0.33, random_state=42)"
      ],
      "execution_count": 0,
      "outputs": [
        {
          "output_type": "stream",
          "text": [
            "4904\n",
            "4904\n"
          ],
          "name": "stdout"
        },
        {
          "output_type": "stream",
          "text": [
            "Using TensorFlow backend.\n"
          ],
          "name": "stderr"
        }
      ]
    },
    {
      "cell_type": "markdown",
      "metadata": {
        "id": "kIpzGNqJAigo",
        "colab_type": "text"
      },
      "source": [
        "## Simple Sklearn Random Forest Implementation\n",
        "Our target is to beat the accuracy of this model with a deep neural network."
      ]
    },
    {
      "cell_type": "code",
      "metadata": {
        "id": "mefb4apfA7Bg",
        "colab_type": "code",
        "colab": {}
      },
      "source": [
        "import sklearn\n",
        "from sklearn.ensemble import RandomForestClassifier\n",
        "from sklearn.metrics import accuracy_score\n",
        "from sklearn.metrics import confusion_matrix\n",
        "\n",
        "def random_forest_classifier(features, target):\n",
        "    \"\"\"\n",
        "    To train the random forest classifier with features and target data\n",
        "    :param features:\n",
        "    :param target:\n",
        "    :return: trained random forest classifier\n",
        "    \"\"\"\n",
        "    clf = RandomForestClassifier()\n",
        "    clf.fit(features, target)\n",
        "    return clf"
      ],
      "execution_count": 0,
      "outputs": []
    },
    {
      "cell_type": "markdown",
      "metadata": {
        "id": "lbLre3FyBB4E",
        "colab_type": "text"
      },
      "source": [
        "Train and Test the random forest model:"
      ]
    },
    {
      "cell_type": "code",
      "metadata": {
        "id": "V7SKRRgXBABx",
        "colab_type": "code",
        "colab": {}
      },
      "source": [
        "# Create random forest classifier instance\n",
        "trained_model = random_forest_classifier(X_train, y_train)\n",
        "predictions = trained_model.predict(X_test)\n",
        "\n",
        "print(\"Train Accuracy :: \", accuracy_score(y_train, trained_model.predict(X_train)))\n",
        "print(\"Test Accuracy  :: \", accuracy_score(y_test, predictions))\n",
        "print(\" Confusion matrix \\n\", confusion_matrix(y_test, predictions))"
      ],
      "execution_count": 0,
      "outputs": []
    },
    {
      "cell_type": "markdown",
      "metadata": {
        "id": "cP8NuotvBQ3s",
        "colab_type": "text"
      },
      "source": [
        "Target Results:\n",
        "\n",
        "*   Train Accuracy :  0.99\n",
        "*   Test Accuracy  :  0.87\n",
        "\n"
      ]
    },
    {
      "cell_type": "markdown",
      "metadata": {
        "id": "3Bzv9jv-BmOp",
        "colab_type": "text"
      },
      "source": [
        "## Deep Random Forest"
      ]
    },
    {
      "cell_type": "code",
      "metadata": {
        "id": "N3EcQy8VDVKT",
        "colab_type": "code",
        "colab": {}
      },
      "source": [
        "from numpy import genfromtxt\n",
        "import torch\n",
        "import torch.nn as nn\n",
        "import torchvision.datasets as dsets\n",
        "import torchvision.transforms as transforms\n",
        "from torch.autograd import Variable\n",
        "import torch.utils.data as Data\n",
        "import os\n",
        "import pandas as pd\n",
        "import numpy as np\n",
        "from sklearn.model_selection import train_test_split\n",
        "\n",
        "from torch.nn.parameter import Parameter\n",
        "import torch.nn.functional as F\n"
      ],
      "execution_count": 0,
      "outputs": []
    },
    {
      "cell_type": "markdown",
      "metadata": {
        "id": "WInE1L2YDk6M",
        "colab_type": "text"
      },
      "source": [
        "### Network Model Definition"
      ]
    },
    {
      "cell_type": "code",
      "metadata": {
        "id": "S6fWsv6GDU5R",
        "colab_type": "code",
        "colab": {}
      },
      "source": [
        "class DeepNeuralDecisionForest(nn.Module):\n",
        "    def __init__(self, p_keep_conv, p_keep_hidden, n_leaf, n_label, n_tree, n_depth, batch_size):\n",
        "        super(DeepNeuralDecisionForest, self).__init__()\n",
        "\n",
        "        #Case CNN as input to Deep Random Forest\n",
        "        '''self.conv = nn.Sequential()\n",
        "        self.conv.add_module('conv1', nn.Conv1d(in_channels = 40,out_channels = 64,kernel_size = 1,stride = 1))\n",
        "        self.conv.add_module('relu1', nn.ReLU())\n",
        "        self.conv.add_module('pool1', nn.MaxPool1d(kernel_size=5))\n",
        "        self.conv.add_module('drop1', nn.Dropout(1-p_keep_conv))\n",
        "        self.conv.add_module('conv2', nn.Conv1d(64, 128, kernel_size=1))\n",
        "        self.conv.add_module('relu2', nn.ReLU())\n",
        "        self.conv.add_module('pool2', nn.BatchNorm1d(128))\n",
        "        self.conv.add_module('drop2', nn.Dropout(1-p_keep_conv))'''\n",
        "        \n",
        "        self.fc1 = nn.Sequential(\n",
        "\t\t\t   nn.Linear(40, 64),\n",
        "\t\t\t   nn.ReLU(),\n",
        "         nn.BatchNorm1d(64),\n",
        "         nn.Dropout(1-p_keep_conv))\n",
        "\n",
        "        self._nleaf = n_leaf\n",
        "        self._nlabel = n_label\n",
        "        self._ntree = n_tree\n",
        "        self._ndepth = n_depth\n",
        "        self._batchsize = batch_size\n",
        "\n",
        "        self.treelayers = nn.ModuleList()\n",
        "        self.pi_e = nn.ParameterList()\n",
        "        for i in range(self._ntree):\n",
        "            treelayer = nn.Sequential()\n",
        "            treelayer.add_module('sub_linear1', nn.Linear(64, 128))\n",
        "            treelayer.add_module('sub_relu', nn.ReLU())\n",
        "            treelayer.add_module('sub_drop1', nn.Dropout(1-p_keep_hidden))\n",
        "            treelayer.add_module('sub_batchNorm', nn.BatchNorm1d(128))\n",
        "            treelayer.add_module('sub_linear2', nn.Linear(128, self._nleaf))\n",
        "            treelayer.add_module('sub_sigmoid', nn.Sigmoid())\n",
        "            \n",
        "            self.treelayers.append(treelayer)\n",
        "            self.pi_e.append(Parameter(self.init_prob_weights([self._nleaf, self._nlabel], -2, 2)))\n",
        "\n",
        "    def init_pi(self):\n",
        "        return torch.ones(self._nleaf, self._nlabel)/float(self._nlabel)\n",
        "\n",
        "    def init_weights(self, shape):\n",
        "        return torch.randn(shape).uniform(-0.01,0.01)\n",
        "\n",
        "    def init_prob_weights(self, shape, minval=-5, maxval=5):\n",
        "        return torch.Tensor(shape[0], shape[1]).uniform_(minval, maxval)\n",
        "\n",
        "    def compute_mu(self, flat_decision_p_e):\n",
        "        n_batch = self._batchsize\n",
        "        batch_0_indices = torch.range(0, n_batch * self._nleaf - 1, self._nleaf).unsqueeze(1).repeat(1, self._nleaf).long()\n",
        "\n",
        "        in_repeat = self._nleaf // 2\n",
        "        out_repeat = n_batch\n",
        "\n",
        "        batch_complement_indices = torch.LongTensor(\n",
        "            np.array([[0] * in_repeat, [n_batch * self._nleaf] * in_repeat] * out_repeat).reshape(n_batch, self._nleaf))\n",
        "\n",
        "        # First define the routing probabilistics d for root nodes\n",
        "        mu_e = []\n",
        "        indices_var = Variable((batch_0_indices + batch_complement_indices).view(-1)) \n",
        "        indices_var = indices_var.cuda()\n",
        "        # iterate over each tree\n",
        "        for i, flat_decision_p in enumerate(flat_decision_p_e):\n",
        "            mu = torch.gather(flat_decision_p, 0, indices_var).view(n_batch, self._nleaf)\n",
        "            mu_e.append(mu)\n",
        "\n",
        "        # from the scond layer to the last layer, we make the decison nodes\n",
        "        for d in range(1, self._ndepth + 1):\n",
        "            indices = torch.range(2 ** d, 2 ** (d + 1) - 1) - 1\n",
        "            tile_indices = indices.unsqueeze(1).repeat(1, 2 ** (self._ndepth - d + 1)).view(1, -1)\n",
        "            batch_indices = batch_0_indices + tile_indices.repeat(n_batch, 1).long()\n",
        "\n",
        "            in_repeat = in_repeat // 2\n",
        "            out_repeat = out_repeat * 2\n",
        "            # Again define the indices that picks d and 1-d for the nodes\n",
        "            batch_complement_indices = torch.LongTensor(\n",
        "                np.array([[0] * in_repeat, [n_batch * self._nleaf] * in_repeat] * out_repeat).reshape(n_batch, self._nleaf))\n",
        "\n",
        "            mu_e_update = []\n",
        "            indices_var = Variable((batch_indices + batch_complement_indices).view(-1))\n",
        "            indices_var = indices_var.cuda()\n",
        "            for mu, flat_decision_p in zip(mu_e, flat_decision_p_e):\n",
        "                mu = torch.mul(mu, torch.gather(flat_decision_p, 0, indices_var).view(\n",
        "                    n_batch, self._nleaf))\n",
        "                mu_e_update.append(mu)\n",
        "            mu_e = mu_e_update\n",
        "        return mu_e\n",
        "\n",
        "    def compute_py_x(self, mu_e, leaf_p_e):\n",
        "        py_x_e = []\n",
        "        n_batch = self._batchsize\n",
        "\n",
        "        for i in range(len(mu_e)):\n",
        "            py_x_tree = mu_e[i].unsqueeze(2).repeat(1, 1, self._nlabel).mul(leaf_p_e[i].unsqueeze(0).repeat(n_batch, 1, 1)).mean(1)\n",
        "            py_x_e.append(py_x_tree.squeeze().unsqueeze(0))\n",
        "\n",
        "        py_x_e = torch.cat(py_x_e, 0)\n",
        "        py_x = py_x_e.mean(0).squeeze()\n",
        "        \n",
        "        return py_x\n",
        "\n",
        "    def forward(self, x):\n",
        "        x = x.view(-1, 40)#DELETE\n",
        "        feat = self.fc1.forward(x)#DELETE\n",
        "        #feat = self.conv.forward(x)\n",
        "        #print('out 8', feat.shape)\n",
        "        \n",
        "        feat = feat.view(-1, 64)\n",
        "        self._batchsize = x.size(0)\n",
        "\n",
        "        flat_decision_p_e = []\n",
        "        leaf_p_e = []\n",
        "        \n",
        "        for i in range(len(self.treelayers)):\n",
        "            decision_p = self.treelayers[i].forward(feat)\n",
        "            decision_p_comp = 1 - decision_p\n",
        "            decision_p_pack = torch.cat((decision_p, decision_p_comp))\n",
        "            flat_decision_p = decision_p_pack.view(-1)\n",
        "            flat_decision_p_e.append(flat_decision_p)\n",
        "            leaf_p = F.softmax(self.pi_e[i])\n",
        "            leaf_p_e.append(leaf_p)\n",
        "        \n",
        "        mu_e = self.compute_mu(flat_decision_p_e)\n",
        "        \n",
        "        py_x = self.compute_py_x(mu_e, leaf_p_e)\n",
        "        return torch.log(py_x)\n"
      ],
      "execution_count": 0,
      "outputs": []
    },
    {
      "cell_type": "code",
      "metadata": {
        "id": "2edT-L4xDUNA",
        "colab_type": "code",
        "colab": {}
      },
      "source": [
        "def train(net,data_loader,optimizer,cost_function, device='cuda'):\n",
        "  samples = 0.\n",
        "  cumulative_loss = 0.\n",
        "  cumulative_accuracy = 0.\n",
        "  \n",
        "  # Set the network in train mode\n",
        "  net.train()\n",
        "  \n",
        "  # Loop over the dataset\n",
        "  for batch_idx, (inputs, targets) in enumerate(data_loader):\n",
        "    # Load data into GPU\n",
        "    inputs = inputs.to(device)\n",
        "    \n",
        "    targets = targets.to(device)\n",
        "    \n",
        "    # Forward pass\n",
        "    outputs = net(inputs)\n",
        "\n",
        "    # Apply the loss\n",
        "    loss = cost_function(outputs, targets)\n",
        "      \n",
        "    # Backward pass\n",
        "    loss.backward()\n",
        "    \n",
        "    # Update parameters\n",
        "    optimizer.step()\n",
        "    \n",
        "    # Reset the optimizer\n",
        "    optimizer.zero_grad()\n",
        "\n",
        "    # Better print something, no?\n",
        "    samples+=inputs.shape[0]\n",
        "    cumulative_loss += loss.item()\n",
        "    _, predicted = outputs.max(1)\n",
        "    cumulative_accuracy += predicted.eq(targets).sum().item()\n",
        "\n",
        "  return cumulative_loss/samples, cumulative_accuracy/samples*100\n",
        "\n",
        "\n",
        "def test(net, data_loader, cost_function, device='cuda'):\n",
        "  samples = 0.\n",
        "  cumulative_loss = 0.\n",
        "  cumulative_accuracy = 0.\n",
        "\n",
        "  #Set the network in eval mode\n",
        "  net.eval()\n",
        "  with torch.no_grad(): # torch.no_grad() disables the autograd machinery, thus not saving the intermediate activations\n",
        "    # Loop over the dataset\n",
        "    for batch_idx, (inputs, targets) in enumerate(data_loader):\n",
        "      # Load data into GPU\n",
        "      inputs = inputs.to(device)\n",
        "\n",
        "      targets = targets.to(device)\n",
        "\n",
        "      # Forward pass\n",
        "      outputs = net(inputs)\n",
        "\n",
        "      # Apply the loss\n",
        "      loss = cost_function(outputs, targets)\n",
        "\n",
        "      # Better print something\n",
        "      samples+=inputs.shape[0]\n",
        "      cumulative_loss += loss.item() # Note: the .item() is needed to extract scalars from tensors\n",
        "      _, predicted = outputs.max(1)\n",
        "      cumulative_accuracy += predicted.eq(targets).sum().item()\n",
        "\n",
        "  return cumulative_loss/samples, cumulative_accuracy/samples*100\n"
      ],
      "execution_count": 0,
      "outputs": []
    },
    {
      "cell_type": "code",
      "metadata": {
        "id": "aqxGk1uWDxP1",
        "colab_type": "code",
        "colab": {}
      },
      "source": [
        "def get_cost_function():\n",
        "  cost_function = torch.nn.CrossEntropyLoss()\n",
        "  return cost_function\n"
      ],
      "execution_count": 0,
      "outputs": []
    },
    {
      "cell_type": "code",
      "metadata": {
        "id": "Pxi8mQ8jDxDg",
        "colab_type": "code",
        "colab": {}
      },
      "source": [
        "def get_optimizer(net, lr, wd, momentum):\n",
        "  optimizer = torch.optim.Adam(net.parameters(), lr=lr, betas=(0.9, 0.999), eps=1e-08, amsgrad=False)\n",
        "  return optimizer\n"
      ],
      "execution_count": 0,
      "outputs": []
    },
    {
      "cell_type": "code",
      "metadata": {
        "id": "20PzWbGJDuOe",
        "colab_type": "code",
        "colab": {}
      },
      "source": [
        "def get_data(batch_size, test_batch_size=128): \n",
        "  # Load data\n",
        "  #X_train, X_test, y_train, y_test\n",
        "  train_data = Data.TensorDataset(\n",
        "    torch.from_numpy(X_train).float(), \n",
        "    torch.from_numpy(y_train).long())\n",
        "\n",
        "  test_data = Data.TensorDataset(\n",
        "    torch.from_numpy(X_test).float(), \n",
        "    torch.from_numpy(y_test).long())\n",
        "\n",
        "  # Initialize dataloaders\n",
        "  train_loader = torch.utils.data.DataLoader(train_data, batch_size = batch_size, shuffle = True)\n",
        "  test_loader = torch.utils.data.DataLoader(test_data, batch_size = batch_size, shuffle = False)\n",
        "  \n",
        "  return train_loader, test_loader\n"
      ],
      "execution_count": 0,
      "outputs": []
    },
    {
      "cell_type": "code",
      "metadata": {
        "id": "UrU8UUZDBqdA",
        "colab_type": "code",
        "outputId": "9f0da23c-61e3-4f00-fa96-19403300c8f1",
        "colab": {
          "base_uri": "https://localhost:8080/",
          "height": 7188
        }
      },
      "source": [
        "# Instantiate visualizer\n",
        "tb = TensorBoardColab(graph_path='./log')\n",
        "visualization_name='Deep Random Forest'\n",
        "\n",
        "device='cuda:0'\n",
        "momentum = 0.95\n",
        "learning_rate = 0.003 #In the case with the new dataset: 0.0007\n",
        "num_epochs = 100\n",
        "weight_decay = 1e-5\n",
        "\n",
        "DEPTH = 3  # Depth of a tree\n",
        "N_LEAF = 2 ** (DEPTH + 1)  # Number of leaf node\n",
        "N_LABEL = 8  # Number of classes\n",
        "N_TREE = 3  # Number of trees\n",
        "batch_size = 256\n",
        "\n",
        "# Dropout Network hyperparameters\n",
        "p_conv_keep = 0.9\n",
        "p_full_keep = 0.6\n",
        "\n",
        "    \n",
        "#DataLoader creation\n",
        "train_loader, test_loader = get_data(batch_size)\n",
        "\n",
        "#Network initialization\n",
        "net = DeepNeuralDecisionForest(p_keep_conv = p_conv_keep, p_keep_hidden = p_full_keep, n_leaf= N_LEAF, n_label= N_LABEL, n_tree= N_TREE, n_depth= DEPTH, batch_size=batch_size)\n",
        "net.to(device)\n",
        "\n",
        "optimizer = get_optimizer(net, learning_rate, weight_decay, momentum)\n",
        "cost_function = get_cost_function()\n",
        "\n",
        "train_accuracy_list = list()\n",
        "test_accuracy_list = list()\n",
        "\n",
        "train_loss_list = list()\n",
        "test_loss_list = list()\n",
        "\n",
        "print('Before training:')\n",
        "train_loss, train_accuracy = test(net, train_loader, cost_function)\n",
        "test_loss, test_accuracy = test(net, test_loader, cost_function)\n",
        "train_accuracy_list.append(train_accuracy)\n",
        "test_accuracy_list.append(test_accuracy)\n",
        "train_loss_list.append(train_loss)\n",
        "test_loss_list.append(test_loss)\n",
        "\n",
        "\n",
        "print('\\t Training loss {:.5f}, Training accuracy {:.2f}'.format(train_loss, train_accuracy))\n",
        "print('\\t Test loss {:.5f}, Test accuracy {:.2f}'.format(test_loss, test_accuracy))\n",
        "print('-----------------------------------------------------')\n",
        "\n",
        "\n",
        "# Add values to plots\n",
        "tb.save_value('Loss/train_loss', visualization_name, 0, train_loss)\n",
        "tb.save_value('Loss/test_loss', visualization_name, 0, test_loss)\n",
        "tb.save_value('Accuracy/train_accuracy', visualization_name, 0, train_accuracy)\n",
        "tb.save_value('Accuracy/test_accuracy', visualization_name, 0, test_accuracy)\n",
        "\n",
        "# Update plots \n",
        "tb.flush_line(visualization_name)\n",
        "\n",
        "for e in range(num_epochs):\n",
        "  train_loss, train_accuracy = train(net, train_loader, optimizer, cost_function)\n",
        "  val_loss, val_accuracy = test(net, test_loader, cost_function)\n",
        "  print('Epoch: {:d}'.format(e+1))\n",
        "  print('\\t Training loss {:.5f}, Training accuracy {:.2f}'.format(train_loss, train_accuracy))\n",
        "  print('\\t Test loss {:.5f}, Test accuracy {:.2f}'.format(val_loss, val_accuracy))\n",
        "  print('-----------------------------------------------------')\n",
        "  \n",
        "  train_accuracy_list.append(train_accuracy)\n",
        "  test_accuracy_list.append(val_accuracy)\n",
        "  train_loss_list.append(train_loss)\n",
        "  test_loss_list.append(val_loss)\n",
        "  \n",
        "  # Add values to plots\n",
        "  tb.save_value('Loss/train_loss', visualization_name, e + 1, train_loss)\n",
        "  tb.save_value('Loss/test_loss', visualization_name, e + 1, val_loss)\n",
        "  tb.save_value('Accuracy/train_accuracy', visualization_name, e + 1, train_accuracy)\n",
        "  tb.save_value('Accuracy/test_accuracy', visualization_name, e + 1, val_accuracy)\n",
        "  # Update plots \n",
        "  tb.flush_line(visualization_name)\n",
        "  \n",
        "print('After training:')\n",
        "train_loss, train_accuracy = test(net, train_loader, cost_function)\n",
        "test_loss, test_accuracy = test(net, test_loader, cost_function)\n",
        "\n",
        "print('\\t Training loss {:.5f}, Training accuracy {:.2f}'.format(train_loss, train_accuracy))\n",
        "print('\\t Test loss {:.5f}, Test accuracy {:.2f}'.format(test_loss, test_accuracy))\n",
        "print('-----------------------------------------------------')"
      ],
      "execution_count": 0,
      "outputs": [
        {
          "output_type": "stream",
          "text": [
            "Wait for 8 seconds...\n",
            "TensorBoard link:\n",
            "https://4f721896.ngrok.io\n",
            "Before training:\n"
          ],
          "name": "stdout"
        },
        {
          "output_type": "stream",
          "text": [
            "/usr/local/lib/python3.6/dist-packages/ipykernel_launcher.py:123: UserWarning: Implicit dimension choice for softmax has been deprecated. Change the call to include dim=X as an argument.\n",
            "/usr/local/lib/python3.6/dist-packages/ipykernel_launcher.py:53: UserWarning: torch.range is deprecated in favor of torch.arange and will be removed in 0.5. Note that arange generates values in [start; end), not [start; end].\n",
            "/usr/local/lib/python3.6/dist-packages/ipykernel_launcher.py:72: UserWarning: torch.range is deprecated in favor of torch.arange and will be removed in 0.5. Note that arange generates values in [start; end), not [start; end].\n"
          ],
          "name": "stderr"
        },
        {
          "output_type": "stream",
          "text": [
            "\t Training loss 0.00822, Training accuracy 15.77\n",
            "\t Test loss 0.00897, Test accuracy 15.44\n",
            "-----------------------------------------------------\n",
            "Epoch: 1\n",
            "\t Training loss 0.00789, Training accuracy 24.20\n",
            "\t Test loss 0.00881, Test accuracy 16.55\n",
            "-----------------------------------------------------\n",
            "Epoch: 2\n",
            "\t Training loss 0.00727, Training accuracy 38.02\n",
            "\t Test loss 0.00782, Test accuracy 37.68\n",
            "-----------------------------------------------------\n",
            "Epoch: 3\n",
            "\t Training loss 0.00685, Training accuracy 44.17\n",
            "\t Test loss 0.00734, Test accuracy 44.47\n",
            "-----------------------------------------------------\n",
            "Epoch: 4\n",
            "\t Training loss 0.00652, Training accuracy 47.03\n",
            "\t Test loss 0.00780, Test accuracy 33.54\n",
            "-----------------------------------------------------\n",
            "Epoch: 5\n",
            "\t Training loss 0.00625, Training accuracy 49.53\n",
            "\t Test loss 0.00693, Test accuracy 44.35\n",
            "-----------------------------------------------------\n",
            "Epoch: 6\n",
            "\t Training loss 0.00602, Training accuracy 51.35\n",
            "\t Test loss 0.00683, Test accuracy 46.63\n",
            "-----------------------------------------------------\n",
            "Epoch: 7\n",
            "\t Training loss 0.00583, Training accuracy 52.72\n",
            "\t Test loss 0.00683, Test accuracy 43.36\n",
            "-----------------------------------------------------\n",
            "Epoch: 8\n",
            "\t Training loss 0.00568, Training accuracy 52.85\n",
            "\t Test loss 0.00681, Test accuracy 42.80\n",
            "-----------------------------------------------------\n",
            "Epoch: 9\n",
            "\t Training loss 0.00551, Training accuracy 54.43\n",
            "\t Test loss 0.00625, Test accuracy 51.27\n",
            "-----------------------------------------------------\n",
            "Epoch: 10\n",
            "\t Training loss 0.00532, Training accuracy 56.29\n",
            "\t Test loss 0.00653, Test accuracy 47.07\n",
            "-----------------------------------------------------\n",
            "Epoch: 11\n",
            "\t Training loss 0.00521, Training accuracy 57.93\n",
            "\t Test loss 0.00602, Test accuracy 50.28\n",
            "-----------------------------------------------------\n",
            "Epoch: 12\n",
            "\t Training loss 0.00506, Training accuracy 59.63\n",
            "\t Test loss 0.00554, Test accuracy 57.81\n",
            "-----------------------------------------------------\n",
            "Epoch: 13\n",
            "\t Training loss 0.00490, Training accuracy 63.04\n",
            "\t Test loss 0.00544, Test accuracy 60.72\n",
            "-----------------------------------------------------\n",
            "Epoch: 14\n",
            "\t Training loss 0.00477, Training accuracy 62.62\n",
            "\t Test loss 0.00627, Test accuracy 49.60\n",
            "-----------------------------------------------------\n",
            "Epoch: 15\n",
            "\t Training loss 0.00462, Training accuracy 64.96\n",
            "\t Test loss 0.00534, Test accuracy 59.17\n",
            "-----------------------------------------------------\n",
            "Epoch: 16\n",
            "\t Training loss 0.00455, Training accuracy 64.87\n",
            "\t Test loss 0.00536, Test accuracy 58.43\n",
            "-----------------------------------------------------\n",
            "Epoch: 17\n",
            "\t Training loss 0.00444, Training accuracy 65.66\n",
            "\t Test loss 0.00508, Test accuracy 61.40\n",
            "-----------------------------------------------------\n",
            "Epoch: 18\n",
            "\t Training loss 0.00435, Training accuracy 66.30\n",
            "\t Test loss 0.00500, Test accuracy 62.32\n",
            "-----------------------------------------------------\n",
            "Epoch: 19\n",
            "\t Training loss 0.00421, Training accuracy 68.19\n",
            "\t Test loss 0.00553, Test accuracy 55.34\n",
            "-----------------------------------------------------\n",
            "Epoch: 20\n",
            "\t Training loss 0.00416, Training accuracy 67.34\n",
            "\t Test loss 0.00626, Test accuracy 49.04\n",
            "-----------------------------------------------------\n",
            "Epoch: 21\n",
            "\t Training loss 0.00407, Training accuracy 68.19\n",
            "\t Test loss 0.00465, Test accuracy 64.42\n",
            "-----------------------------------------------------\n",
            "Epoch: 22\n",
            "\t Training loss 0.00398, Training accuracy 68.92\n",
            "\t Test loss 0.00625, Test accuracy 49.29\n",
            "-----------------------------------------------------\n",
            "Epoch: 23\n",
            "\t Training loss 0.00391, Training accuracy 70.65\n",
            "\t Test loss 0.00475, Test accuracy 63.00\n",
            "-----------------------------------------------------\n",
            "Epoch: 24\n",
            "\t Training loss 0.00378, Training accuracy 70.81\n",
            "\t Test loss 0.00541, Test accuracy 54.91\n",
            "-----------------------------------------------------\n",
            "Epoch: 25\n",
            "\t Training loss 0.00379, Training accuracy 70.93\n",
            "\t Test loss 0.00507, Test accuracy 59.05\n",
            "-----------------------------------------------------\n",
            "Epoch: 26\n",
            "\t Training loss 0.00374, Training accuracy 70.72\n",
            "\t Test loss 0.00487, Test accuracy 61.46\n",
            "-----------------------------------------------------\n",
            "Epoch: 27\n",
            "\t Training loss 0.00365, Training accuracy 71.60\n",
            "\t Test loss 0.00470, Test accuracy 63.56\n",
            "-----------------------------------------------------\n",
            "Epoch: 28\n",
            "\t Training loss 0.00357, Training accuracy 72.42\n",
            "\t Test loss 0.00430, Test accuracy 66.03\n",
            "-----------------------------------------------------\n",
            "Epoch: 29\n",
            "\t Training loss 0.00348, Training accuracy 73.36\n",
            "\t Test loss 0.00406, Test accuracy 70.48\n",
            "-----------------------------------------------------\n",
            "Epoch: 30\n",
            "\t Training loss 0.00343, Training accuracy 73.30\n",
            "\t Test loss 0.00461, Test accuracy 61.83\n",
            "-----------------------------------------------------\n",
            "Epoch: 31\n",
            "\t Training loss 0.00338, Training accuracy 73.30\n",
            "\t Test loss 0.00400, Test accuracy 70.54\n",
            "-----------------------------------------------------\n",
            "Epoch: 32\n",
            "\t Training loss 0.00333, Training accuracy 73.46\n",
            "\t Test loss 0.00482, Test accuracy 62.88\n",
            "-----------------------------------------------------\n",
            "Epoch: 33\n",
            "\t Training loss 0.00331, Training accuracy 73.73\n",
            "\t Test loss 0.00380, Test accuracy 71.16\n",
            "-----------------------------------------------------\n",
            "Epoch: 34\n",
            "\t Training loss 0.00328, Training accuracy 73.91\n",
            "\t Test loss 0.00451, Test accuracy 62.63\n",
            "-----------------------------------------------------\n",
            "Epoch: 35\n",
            "\t Training loss 0.00318, Training accuracy 75.37\n",
            "\t Test loss 0.00400, Test accuracy 69.24\n",
            "-----------------------------------------------------\n",
            "Epoch: 36\n",
            "\t Training loss 0.00316, Training accuracy 75.31\n",
            "\t Test loss 0.00429, Test accuracy 68.68\n",
            "-----------------------------------------------------\n",
            "Epoch: 37\n",
            "\t Training loss 0.00313, Training accuracy 75.83\n",
            "\t Test loss 0.00425, Test accuracy 65.47\n",
            "-----------------------------------------------------\n",
            "Epoch: 38\n",
            "\t Training loss 0.00307, Training accuracy 76.07\n",
            "\t Test loss 0.00391, Test accuracy 69.86\n",
            "-----------------------------------------------------\n",
            "Epoch: 39\n",
            "\t Training loss 0.00302, Training accuracy 76.83\n",
            "\t Test loss 0.00410, Test accuracy 67.08\n",
            "-----------------------------------------------------\n",
            "Epoch: 40\n",
            "\t Training loss 0.00296, Training accuracy 77.05\n",
            "\t Test loss 0.00436, Test accuracy 66.15\n",
            "-----------------------------------------------------\n",
            "Epoch: 41\n",
            "\t Training loss 0.00298, Training accuracy 75.83\n",
            "\t Test loss 0.00404, Test accuracy 68.50\n",
            "-----------------------------------------------------\n",
            "Epoch: 42\n",
            "\t Training loss 0.00290, Training accuracy 76.65\n",
            "\t Test loss 0.00372, Test accuracy 70.41\n",
            "-----------------------------------------------------\n",
            "Epoch: 43\n",
            "\t Training loss 0.00289, Training accuracy 77.38\n",
            "\t Test loss 0.00417, Test accuracy 66.15\n",
            "-----------------------------------------------------\n",
            "Epoch: 44\n",
            "\t Training loss 0.00292, Training accuracy 76.77\n",
            "\t Test loss 0.00353, Test accuracy 72.70\n",
            "-----------------------------------------------------\n",
            "Epoch: 45\n",
            "\t Training loss 0.00282, Training accuracy 77.56\n",
            "\t Test loss 0.00383, Test accuracy 68.07\n",
            "-----------------------------------------------------\n",
            "Epoch: 46\n",
            "\t Training loss 0.00279, Training accuracy 79.00\n",
            "\t Test loss 0.00404, Test accuracy 68.00\n",
            "-----------------------------------------------------\n",
            "Epoch: 47\n",
            "\t Training loss 0.00278, Training accuracy 77.60\n",
            "\t Test loss 0.00365, Test accuracy 72.02\n",
            "-----------------------------------------------------\n",
            "Epoch: 48\n",
            "\t Training loss 0.00277, Training accuracy 77.78\n",
            "\t Test loss 0.00399, Test accuracy 67.70\n",
            "-----------------------------------------------------\n",
            "Epoch: 49\n",
            "\t Training loss 0.00273, Training accuracy 78.23\n",
            "\t Test loss 0.00354, Test accuracy 72.33\n",
            "-----------------------------------------------------\n",
            "Epoch: 50\n",
            "\t Training loss 0.00272, Training accuracy 79.03\n",
            "\t Test loss 0.00426, Test accuracy 67.45\n",
            "-----------------------------------------------------\n",
            "Epoch: 51\n",
            "\t Training loss 0.00273, Training accuracy 78.42\n",
            "\t Test loss 0.00401, Test accuracy 67.51\n",
            "-----------------------------------------------------\n",
            "Epoch: 52\n",
            "\t Training loss 0.00273, Training accuracy 78.30\n",
            "\t Test loss 0.00353, Test accuracy 71.96\n",
            "-----------------------------------------------------\n",
            "Epoch: 53\n",
            "\t Training loss 0.00263, Training accuracy 79.57\n",
            "\t Test loss 0.00369, Test accuracy 70.72\n",
            "-----------------------------------------------------\n",
            "Epoch: 54\n",
            "\t Training loss 0.00265, Training accuracy 79.63\n",
            "\t Test loss 0.00410, Test accuracy 65.29\n",
            "-----------------------------------------------------\n",
            "Epoch: 55\n",
            "\t Training loss 0.00261, Training accuracy 80.06\n",
            "\t Test loss 0.00434, Test accuracy 68.13\n",
            "-----------------------------------------------------\n",
            "Epoch: 56\n",
            "\t Training loss 0.00264, Training accuracy 78.66\n",
            "\t Test loss 0.00352, Test accuracy 72.51\n",
            "-----------------------------------------------------\n",
            "Epoch: 57\n",
            "\t Training loss 0.00254, Training accuracy 79.91\n",
            "\t Test loss 0.00348, Test accuracy 74.55\n",
            "-----------------------------------------------------\n",
            "Epoch: 58\n",
            "\t Training loss 0.00246, Training accuracy 80.79\n",
            "\t Test loss 0.00346, Test accuracy 73.56\n",
            "-----------------------------------------------------\n",
            "Epoch: 59\n",
            "\t Training loss 0.00251, Training accuracy 80.49\n",
            "\t Test loss 0.00350, Test accuracy 71.83\n",
            "-----------------------------------------------------\n",
            "Epoch: 60\n",
            "\t Training loss 0.00258, Training accuracy 79.09\n",
            "\t Test loss 0.00384, Test accuracy 69.61\n",
            "-----------------------------------------------------\n",
            "Epoch: 61\n",
            "\t Training loss 0.00254, Training accuracy 79.67\n",
            "\t Test loss 0.00566, Test accuracy 57.69\n",
            "-----------------------------------------------------\n",
            "Epoch: 62\n",
            "\t Training loss 0.00254, Training accuracy 80.12\n",
            "\t Test loss 0.00405, Test accuracy 70.11\n",
            "-----------------------------------------------------\n",
            "Epoch: 63\n",
            "\t Training loss 0.00239, Training accuracy 81.70\n",
            "\t Test loss 0.00366, Test accuracy 71.77\n",
            "-----------------------------------------------------\n",
            "Epoch: 64\n",
            "\t Training loss 0.00243, Training accuracy 80.64\n",
            "\t Test loss 0.00345, Test accuracy 73.13\n",
            "-----------------------------------------------------\n",
            "Epoch: 65\n",
            "\t Training loss 0.00242, Training accuracy 80.91\n",
            "\t Test loss 0.00382, Test accuracy 70.91\n",
            "-----------------------------------------------------\n",
            "Epoch: 66\n",
            "\t Training loss 0.00240, Training accuracy 80.76\n",
            "\t Test loss 0.00369, Test accuracy 71.53\n",
            "-----------------------------------------------------\n",
            "Epoch: 67\n",
            "\t Training loss 0.00243, Training accuracy 80.64\n",
            "\t Test loss 0.00355, Test accuracy 72.45\n",
            "-----------------------------------------------------\n",
            "Epoch: 68\n",
            "\t Training loss 0.00243, Training accuracy 80.24\n",
            "\t Test loss 0.00320, Test accuracy 74.24\n",
            "-----------------------------------------------------\n",
            "Epoch: 69\n",
            "\t Training loss 0.00238, Training accuracy 81.22\n",
            "\t Test loss 0.00409, Test accuracy 69.05\n",
            "-----------------------------------------------------\n",
            "Epoch: 70\n",
            "\t Training loss 0.00235, Training accuracy 81.70\n",
            "\t Test loss 0.00314, Test accuracy 75.91\n",
            "-----------------------------------------------------\n",
            "Epoch: 71\n",
            "\t Training loss 0.00232, Training accuracy 82.28\n",
            "\t Test loss 0.00346, Test accuracy 75.05\n",
            "-----------------------------------------------------\n",
            "Epoch: 72\n",
            "\t Training loss 0.00233, Training accuracy 81.70\n",
            "\t Test loss 0.00357, Test accuracy 72.58\n",
            "-----------------------------------------------------\n",
            "Epoch: 73\n",
            "\t Training loss 0.00232, Training accuracy 81.22\n",
            "\t Test loss 0.00323, Test accuracy 75.60\n",
            "-----------------------------------------------------\n",
            "Epoch: 74\n",
            "\t Training loss 0.00232, Training accuracy 81.49\n",
            "\t Test loss 0.00294, Test accuracy 77.83\n",
            "-----------------------------------------------------\n",
            "Epoch: 75\n",
            "\t Training loss 0.00224, Training accuracy 82.74\n",
            "\t Test loss 0.00279, Test accuracy 77.76\n",
            "-----------------------------------------------------\n",
            "Epoch: 76\n",
            "\t Training loss 0.00223, Training accuracy 82.31\n",
            "\t Test loss 0.00330, Test accuracy 72.21\n",
            "-----------------------------------------------------\n",
            "Epoch: 77\n",
            "\t Training loss 0.00219, Training accuracy 83.14\n",
            "\t Test loss 0.00313, Test accuracy 76.10\n",
            "-----------------------------------------------------\n",
            "Epoch: 78\n",
            "\t Training loss 0.00227, Training accuracy 82.34\n",
            "\t Test loss 0.00381, Test accuracy 71.34\n",
            "-----------------------------------------------------\n",
            "Epoch: 79\n",
            "\t Training loss 0.00220, Training accuracy 82.19\n",
            "\t Test loss 0.00319, Test accuracy 74.12\n",
            "-----------------------------------------------------\n",
            "Epoch: 80\n",
            "\t Training loss 0.00224, Training accuracy 82.10\n",
            "\t Test loss 0.00352, Test accuracy 71.46\n",
            "-----------------------------------------------------\n",
            "Epoch: 81\n",
            "\t Training loss 0.00225, Training accuracy 82.59\n",
            "\t Test loss 0.00384, Test accuracy 70.29\n",
            "-----------------------------------------------------\n",
            "Epoch: 82\n",
            "\t Training loss 0.00217, Training accuracy 82.98\n",
            "\t Test loss 0.00289, Test accuracy 79.18\n",
            "-----------------------------------------------------\n",
            "Epoch: 83\n",
            "\t Training loss 0.00220, Training accuracy 82.28\n",
            "\t Test loss 0.00465, Test accuracy 65.97\n",
            "-----------------------------------------------------\n",
            "Epoch: 84\n",
            "\t Training loss 0.00219, Training accuracy 83.29\n",
            "\t Test loss 0.00354, Test accuracy 72.88\n",
            "-----------------------------------------------------\n",
            "Epoch: 85\n",
            "\t Training loss 0.00218, Training accuracy 83.17\n",
            "\t Test loss 0.00452, Test accuracy 65.29\n",
            "-----------------------------------------------------\n",
            "Epoch: 86\n",
            "\t Training loss 0.00221, Training accuracy 82.95\n",
            "\t Test loss 0.00381, Test accuracy 72.39\n",
            "-----------------------------------------------------\n",
            "Epoch: 87\n",
            "\t Training loss 0.00216, Training accuracy 82.92\n",
            "\t Test loss 0.00341, Test accuracy 72.82\n",
            "-----------------------------------------------------\n",
            "Epoch: 88\n",
            "\t Training loss 0.00208, Training accuracy 83.59\n",
            "\t Test loss 0.00319, Test accuracy 74.61\n",
            "-----------------------------------------------------\n",
            "Epoch: 89\n",
            "\t Training loss 0.00213, Training accuracy 83.53\n",
            "\t Test loss 0.00292, Test accuracy 76.03\n",
            "-----------------------------------------------------\n",
            "Epoch: 90\n",
            "\t Training loss 0.00208, Training accuracy 83.26\n",
            "\t Test loss 0.00390, Test accuracy 70.72\n",
            "-----------------------------------------------------\n",
            "Epoch: 91\n",
            "\t Training loss 0.00211, Training accuracy 82.92\n",
            "\t Test loss 0.00301, Test accuracy 77.21\n",
            "-----------------------------------------------------\n",
            "Epoch: 92\n",
            "\t Training loss 0.00213, Training accuracy 82.53\n",
            "\t Test loss 0.00397, Test accuracy 69.73\n",
            "-----------------------------------------------------\n",
            "Epoch: 93\n",
            "\t Training loss 0.00209, Training accuracy 83.47\n",
            "\t Test loss 0.00278, Test accuracy 79.43\n",
            "-----------------------------------------------------\n",
            "Epoch: 94\n",
            "\t Training loss 0.00209, Training accuracy 82.95\n",
            "\t Test loss 0.00285, Test accuracy 78.13\n",
            "-----------------------------------------------------\n",
            "Epoch: 95\n",
            "\t Training loss 0.00209, Training accuracy 83.44\n",
            "\t Test loss 0.00344, Test accuracy 71.96\n",
            "-----------------------------------------------------\n",
            "Epoch: 96\n",
            "\t Training loss 0.00208, Training accuracy 83.65\n",
            "\t Test loss 0.00330, Test accuracy 76.84\n",
            "-----------------------------------------------------\n",
            "Epoch: 97\n",
            "\t Training loss 0.00203, Training accuracy 85.02\n",
            "\t Test loss 0.00298, Test accuracy 76.47\n",
            "-----------------------------------------------------\n",
            "Epoch: 98\n",
            "\t Training loss 0.00203, Training accuracy 84.32\n",
            "\t Test loss 0.00331, Test accuracy 73.69\n",
            "-----------------------------------------------------\n",
            "Epoch: 99\n",
            "\t Training loss 0.00205, Training accuracy 83.29\n",
            "\t Test loss 0.00269, Test accuracy 79.68\n",
            "-----------------------------------------------------\n",
            "Epoch: 100\n",
            "\t Training loss 0.00197, Training accuracy 85.05\n",
            "\t Test loss 0.00271, Test accuracy 79.00\n",
            "-----------------------------------------------------\n",
            "After training:\n",
            "\t Training loss 0.00167, Training accuracy 86.58\n",
            "\t Test loss 0.00271, Test accuracy 79.00\n",
            "-----------------------------------------------------\n"
          ],
          "name": "stdout"
        }
      ]
    },
    {
      "cell_type": "markdown",
      "metadata": {
        "id": "SPIu5kykcNeY",
        "colab_type": "text"
      },
      "source": [
        "### Accuracy plot"
      ]
    },
    {
      "cell_type": "code",
      "metadata": {
        "id": "dRnpmiQFaRQV",
        "colab_type": "code",
        "outputId": "316d6e11-df42-4618-b037-47ce3c99adcb",
        "colab": {
          "base_uri": "https://localhost:8080/",
          "height": 295
        }
      },
      "source": [
        "import matplotlib.pyplot as plt\n",
        "x = range(0,num_epochs +1)\n",
        "\n",
        "fig, ax = plt.subplots()\n",
        "\n",
        "plt.plot(x, train_accuracy_list, label='Train Accuracy')\n",
        "plt.plot(x, test_accuracy_list, label='Test Accuracy')\n",
        "\n",
        "plt.xlabel('N epochs')\n",
        "plt.ylabel('Accuracy [%]')\n",
        "plt.title(\"Accuracy Plot\")\n",
        "plt.legend()\n",
        "plt.show()\n",
        "\n",
        "#plt.savefig('accuracy.png', format='png', dpi=1000)\n",
        "\n",
        "# Do the plot code\n",
        "fig.savefig('accuracy.png', format='png', dpi=1000)"
      ],
      "execution_count": 0,
      "outputs": [
        {
          "output_type": "display_data",
          "data": {
            "image/png": "[encoded data removed]",
            "text/plain": [
              "<Figure size 432x288 with 1 Axes>"
            ]
          },
          "metadata": {
            "tags": []
          }
        }
      ]
    },
    {
      "cell_type": "markdown",
      "metadata": {
        "id": "Fndcel9EcRrz",
        "colab_type": "text"
      },
      "source": [
        "### Loss Plot\n"
      ]
    },
    {
      "cell_type": "code",
      "metadata": {
        "id": "oR3XyS-DcVYo",
        "colab_type": "code",
        "outputId": "872f5f85-69d4-4dea-9139-cc6b60b46d06",
        "colab": {
          "base_uri": "https://localhost:8080/",
          "height": 295
        }
      },
      "source": [
        "fig, ax = plt.subplots()\n",
        "plt.plot(x, train_loss_list, label='Train Loss')\n",
        "plt.plot(x, test_loss_list, label='Test Loss')\n",
        "\n",
        "plt.xlabel('N epochs')\n",
        "plt.ylabel('Loss')\n",
        "plt.title(\"Loss Plot\")\n",
        "plt.legend()\n",
        "plt.show()\n",
        "\n",
        "fig.savefig('loss.png', format='png', dpi=1000)"
      ],
      "execution_count": 0,
      "outputs": [
        {
          "output_type": "display_data",
          "data": {
            "image/png": "[encoded data removed]",
            "text/plain": [
              "<Figure size 432x288 with 1 Axes>"
            ]
          },
          "metadata": {
            "tags": []
          }
        }
      ]
    },
    {
      "cell_type": "markdown",
      "metadata": {
        "id": "pXI3rKb_Co0x",
        "colab_type": "text"
      },
      "source": [
        "## Confusion Matrix"
      ]
    },
    {
      "cell_type": "code",
      "metadata": {
        "id": "-57nC0ppCOm-",
        "colab_type": "code",
        "outputId": "a6a2653a-74c2-440c-c365-7834d60ab55c",
        "colab": {
          "base_uri": "https://localhost:8080/",
          "height": 106
        }
      },
      "source": [
        "'''test_loader_copy = test_loader\n",
        "#val_loader_copy = val_loader\n",
        "train_loader_copy = train_loader'''\n",
        "net_copy = net\n",
        "samples = 0.\n",
        "cumulative_loss = 0.\n",
        "cumulative_accuracy = 0.\n",
        "\n",
        "net_copy.eval() # Strictly needed if network contains layers which has different behaviours between train and tes\n",
        "predicted_label = list()\n",
        "real_label = list()\n",
        "#imgPath = list()\n",
        "with torch.no_grad():\n",
        "    for batch_idx, (inputs, targets) in enumerate(test_loader):\n",
        "        # Load data into GPU\n",
        "        inputs = inputs.to(device)\n",
        "        targets = targets.to(device)\n",
        "\n",
        "        # Forward pass\n",
        "        outputs = net_copy(inputs)\n",
        "\n",
        "        # Apply the loss\n",
        "        loss = cost_function(outputs, targets)\n",
        "\n",
        "        # Better print something\n",
        "        samples+=inputs.shape[0]\n",
        "        cumulative_loss += loss.item() # Note: the .item() is needed to extract scalars from tensors\n",
        "        _, predicted = outputs.max(1)\n",
        "        predicted_label.extend(predicted.tolist())\n",
        "        real_label.extend(targets.tolist())\n",
        "        cumulative_accuracy += predicted.eq(targets).sum().item()\n",
        "        \n",
        "print(\"Final Accuracy: \", cumulative_accuracy/samples*100, \"%\")\n"
      ],
      "execution_count": 0,
      "outputs": [
        {
          "output_type": "stream",
          "text": [
            "Final Accuracy:  78.99938233477455 %\n"
          ],
          "name": "stdout"
        },
        {
          "output_type": "stream",
          "text": [
            "/usr/local/lib/python3.6/dist-packages/ipykernel_launcher.py:123: UserWarning: Implicit dimension choice for softmax has been deprecated. Change the call to include dim=X as an argument.\n",
            "/usr/local/lib/python3.6/dist-packages/ipykernel_launcher.py:53: UserWarning: torch.range is deprecated in favor of torch.arange and will be removed in 0.5. Note that arange generates values in [start; end), not [start; end].\n",
            "/usr/local/lib/python3.6/dist-packages/ipykernel_launcher.py:72: UserWarning: torch.range is deprecated in favor of torch.arange and will be removed in 0.5. Note that arange generates values in [start; end), not [start; end].\n"
          ],
          "name": "stderr"
        }
      ]
    },
    {
      "cell_type": "code",
      "metadata": {
        "id": "V2__Lk3LCOSs",
        "colab_type": "code",
        "outputId": "d37669d4-30f0-45a1-9129-bd70786240d6",
        "colab": {
          "base_uri": "https://localhost:8080/",
          "height": 566
        }
      },
      "source": [
        "#print(__doc__)\n",
        "from sklearn.utils.multiclass import unique_labels\n",
        "from sklearn.metrics import confusion_matrix\n",
        "\n",
        "\n",
        "#Classes to be predicted\n",
        "class_names = ['neutral','calm','happy', 'sad','angry','fearful','disgust','surprised']\n",
        "\n",
        "def plot_confusion_matrix(y_true, y_pred, classes,\n",
        "                          normalize=False,\n",
        "                          title=None,\n",
        "                          cmap=plt.cm.Blues):\n",
        "    \"\"\"\n",
        "    This function prints and plots the confusion matrix.\n",
        "    Normalization can be applied by setting `normalize=True`.\n",
        "    \"\"\"\n",
        "    if not title:\n",
        "        if normalize:\n",
        "            title = 'Normalized confusion matrix'\n",
        "        else:\n",
        "            title = 'Confusion matrix, without normalization'\n",
        "\n",
        "    # Compute confusion matrix\n",
        "    cm = confusion_matrix(y_true, y_pred)\n",
        "    # Only use the labels that appear in the data\n",
        "\n",
        "    fig, ax = plt.subplots()\n",
        "    im = ax.imshow(cm, interpolation='nearest', cmap=cmap)\n",
        "    ax.figure.colorbar(im, ax=ax)\n",
        "    # We want to show all ticks...\n",
        "    ax.set(xticks=np.arange(cm.shape[1]),\n",
        "           yticks=np.arange(cm.shape[0]),\n",
        "           # ... and label them with the respective list entries\n",
        "           xticklabels=classes, yticklabels=classes,\n",
        "           title=title,\n",
        "           ylabel='True label',\n",
        "           xlabel='Predicted label')\n",
        "\n",
        "    # Rotate the tick labels and set their alignment.\n",
        "    plt.setp(ax.get_xticklabels(), rotation=45, ha=\"right\",\n",
        "             rotation_mode=\"anchor\")\n",
        "\n",
        "    # Loop over data dimensions and create text annotations.\n",
        "    fmt = '.2f' if normalize else 'd'\n",
        "    thresh = cm.max() / 2.\n",
        "    for i in range(cm.shape[0]):\n",
        "        for j in range(cm.shape[1]):\n",
        "            ax.text(j, i, format(cm[i, j], fmt),\n",
        "                    ha=\"center\", va=\"center\",\n",
        "                    color=\"white\" if cm[i, j] > thresh else \"black\")\n",
        "    fig.tight_layout()\n",
        "    return ax\n",
        "\n",
        "\n",
        "np.set_printoptions(precision=2)\n",
        "\n",
        "print(\"Test items: \", len(predicted_label))\n",
        "\n",
        "# Plot confusion matrix\n",
        "plot_confusion_matrix(real_label,predicted_label, classes=class_names,\n",
        "                      title='Confusion matrix, without normalization')\n",
        "plt.show()\n",
        "\n"
      ],
      "execution_count": 0,
      "outputs": [
        {
          "output_type": "stream",
          "text": [
            "Test items:  1619\n"
          ],
          "name": "stdout"
        },
        {
          "output_type": "display_data",
          "data": {
            "image/png": "[encoded data removed]",
            "text/plain": [
              "<Figure size 432x288 with 1 Axes>"
            ]
          },
          "metadata": {
            "tags": []
          }
        },
        {
          "output_type": "display_data",
          "data": {
            "image/png": "[encoded data removed]",
            "text/plain": [
              "<Figure size 432x288 with 2 Axes>"
            ]
          },
          "metadata": {
            "tags": []
          }
        }
      ]
    }
  ]
}